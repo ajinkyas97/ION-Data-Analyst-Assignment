{
 "cells": [
  {
   "cell_type": "markdown",
   "metadata": {},
   "source": [
    "ION Data Analyst Assignment"
   ]
  },
  {
   "cell_type": "code",
   "execution_count": 1,
   "metadata": {},
   "outputs": [],
   "source": [
    "import pandas as pd\n",
    "import numpy as np\n",
    "import matplotlib.pyplot as plt"
   ]
  },
  {
   "cell_type": "code",
   "execution_count": 2,
   "metadata": {},
   "outputs": [],
   "source": [
    "import time"
   ]
  },
  {
   "cell_type": "code",
   "execution_count": 27,
   "metadata": {},
   "outputs": [],
   "source": [
    "import matplotlib.dates as md"
   ]
  },
  {
   "cell_type": "code",
   "execution_count": 37,
   "metadata": {},
   "outputs": [],
   "source": [
    "import datetime"
   ]
  },
  {
   "cell_type": "code",
   "execution_count": 4,
   "metadata": {},
   "outputs": [],
   "source": [
    "data = pd.read_csv(r\"\\Users\\sangeeta\\Downloads\\Assignment file for Data Analyst - assignment file.csv\")"
   ]
  },
  {
   "cell_type": "code",
   "execution_count": 5,
   "metadata": {},
   "outputs": [],
   "source": [
    "data.drop(columns=['Grid power', 'Grid energy consumption', 'Grid cumulative energy consumption'], inplace=True)"
   ]
  },
  {
   "cell_type": "code",
   "execution_count": 6,
   "metadata": {},
   "outputs": [],
   "source": [
    "data.drop(columns=['Application status', 'Total voltage', 'Current'], inplace=True)"
   ]
  },
  {
   "cell_type": "code",
   "execution_count": 73,
   "metadata": {},
   "outputs": [
    {
     "data": {
      "text/html": [
       "<div>\n",
       "<style scoped>\n",
       "    .dataframe tbody tr th:only-of-type {\n",
       "        vertical-align: middle;\n",
       "    }\n",
       "\n",
       "    .dataframe tbody tr th {\n",
       "        vertical-align: top;\n",
       "    }\n",
       "\n",
       "    .dataframe thead th {\n",
       "        text-align: right;\n",
       "    }\n",
       "</style>\n",
       "<table border=\"1\" class=\"dataframe\">\n",
       "  <thead>\n",
       "    <tr style=\"text-align: right;\">\n",
       "      <th></th>\n",
       "      <th>Timestamp</th>\n",
       "      <th>SOC</th>\n",
       "      <th>Temperature</th>\n",
       "      <th>SOH</th>\n",
       "      <th>Equivalent cycle</th>\n",
       "      <th>Grid status</th>\n",
       "      <th>SOC diff</th>\n",
       "      <th>DateTime</th>\n",
       "      <th>Dates</th>\n",
       "    </tr>\n",
       "  </thead>\n",
       "  <tbody>\n",
       "    <tr>\n",
       "      <th>0</th>\n",
       "      <td>1556701215000</td>\n",
       "      <td>1.0</td>\n",
       "      <td>25.229167</td>\n",
       "      <td>1.000000</td>\n",
       "      <td>0.0</td>\n",
       "      <td>1</td>\n",
       "      <td>NaN</td>\n",
       "      <td>737180.375174</td>\n",
       "      <td>2019-05-01 09:00:15+00:00</td>\n",
       "    </tr>\n",
       "    <tr>\n",
       "      <th>1</th>\n",
       "      <td>1556702215000</td>\n",
       "      <td>1.0</td>\n",
       "      <td>25.528210</td>\n",
       "      <td>0.999774</td>\n",
       "      <td>0.0</td>\n",
       "      <td>1</td>\n",
       "      <td>0.0</td>\n",
       "      <td>737180.386748</td>\n",
       "      <td>2019-05-01 09:16:55+00:00</td>\n",
       "    </tr>\n",
       "    <tr>\n",
       "      <th>2</th>\n",
       "      <td>1556703215000</td>\n",
       "      <td>1.0</td>\n",
       "      <td>25.859735</td>\n",
       "      <td>0.999679</td>\n",
       "      <td>0.0</td>\n",
       "      <td>1</td>\n",
       "      <td>0.0</td>\n",
       "      <td>737180.398322</td>\n",
       "      <td>2019-05-01 09:33:35+00:00</td>\n",
       "    </tr>\n",
       "    <tr>\n",
       "      <th>3</th>\n",
       "      <td>1556704215000</td>\n",
       "      <td>1.0</td>\n",
       "      <td>26.204830</td>\n",
       "      <td>0.999606</td>\n",
       "      <td>0.0</td>\n",
       "      <td>1</td>\n",
       "      <td>0.0</td>\n",
       "      <td>737180.409896</td>\n",
       "      <td>2019-05-01 09:50:15+00:00</td>\n",
       "    </tr>\n",
       "    <tr>\n",
       "      <th>4</th>\n",
       "      <td>1556705215000</td>\n",
       "      <td>1.0</td>\n",
       "      <td>26.553448</td>\n",
       "      <td>0.999542</td>\n",
       "      <td>0.0</td>\n",
       "      <td>1</td>\n",
       "      <td>0.0</td>\n",
       "      <td>737180.421470</td>\n",
       "      <td>2019-05-01 10:06:55+00:00</td>\n",
       "    </tr>\n",
       "  </tbody>\n",
       "</table>\n",
       "</div>"
      ],
      "text/plain": [
       "       Timestamp  SOC  Temperature       SOH  Equivalent cycle  Grid status  \\\n",
       "0  1556701215000  1.0    25.229167  1.000000               0.0            1   \n",
       "1  1556702215000  1.0    25.528210  0.999774               0.0            1   \n",
       "2  1556703215000  1.0    25.859735  0.999679               0.0            1   \n",
       "3  1556704215000  1.0    26.204830  0.999606               0.0            1   \n",
       "4  1556705215000  1.0    26.553448  0.999542               0.0            1   \n",
       "\n",
       "   SOC diff       DateTime                     Dates  \n",
       "0       NaN  737180.375174 2019-05-01 09:00:15+00:00  \n",
       "1       0.0  737180.386748 2019-05-01 09:16:55+00:00  \n",
       "2       0.0  737180.398322 2019-05-01 09:33:35+00:00  \n",
       "3       0.0  737180.409896 2019-05-01 09:50:15+00:00  \n",
       "4       0.0  737180.421470 2019-05-01 10:06:55+00:00  "
      ]
     },
     "execution_count": 73,
     "metadata": {},
     "output_type": "execute_result"
    }
   ],
   "source": [
    "data.head()"
   ]
  },
  {
   "cell_type": "code",
   "execution_count": 71,
   "metadata": {},
   "outputs": [],
   "source": [
    "def tim(timestamp):\n",
    "    m = int(timestamp/1000)\n",
    "    return datetime.datetime.utcfromtimestamp(m).replace(tzinfo=datetime.timezone.utc)"
   ]
  },
  {
   "cell_type": "code",
   "execution_count": 72,
   "metadata": {},
   "outputs": [],
   "source": [
    "data['Dates'] = data['Timestamp'].apply(tim)"
   ]
  },
  {
   "cell_type": "code",
   "execution_count": 44,
   "metadata": {},
   "outputs": [
    {
     "data": {
      "text/plain": [
       "datetime.datetime(2019, 5, 1, 10, 6, 55, tzinfo=datetime.timezone.utc)"
      ]
     },
     "execution_count": 44,
     "metadata": {},
     "output_type": "execute_result"
    }
   ],
   "source": [
    "datetime.datetime.utcfromtimestamp(1556705215).replace(tzinfo=datetime.timezone.utc)"
   ]
  },
  {
   "cell_type": "code",
   "execution_count": 12,
   "metadata": {},
   "outputs": [],
   "source": [
    "data['SOC diff'] = data['SOC'].diff()"
   ]
  },
  {
   "cell_type": "code",
   "execution_count": 87,
   "metadata": {},
   "outputs": [
    {
     "data": {
      "image/png": "[encoded data removed]",
      "text/plain": [
       "<Figure size 432x288 with 2 Axes>"
      ]
     },
     "metadata": {
      "needs_background": "light"
     },
     "output_type": "display_data"
    }
   ],
   "source": [
    "fig, ax1 = plt.subplots()\n",
    "color = 'tab:red'\n",
    "ax1.set_xlabel('Time')\n",
    "ax1.set_ylabel('SOC', color=color)\n",
    "ax1.plot_date(data['DateTime'], data['Equivalent cycle'], color=color, linestyle='solid')\n",
    "ax1.tick_params(axis='y', labelcolor=color)\n",
    "\n",
    "ax2 = ax1.twinx()  # instantiate a second axes that shares the same x-axis\n",
    "\n",
    "color = 'tab:blue'\n",
    "ax2.set_ylabel('Temperature', color=color)  # we already handled the x-label with ax1\n",
    "ax2.plot_date(data['DateTime'], data['SOH'], color=color, linestyle='solid')\n",
    "ax2.tick_params(axis='y', labelcolor=color)\n",
    "plt.gcf().autofmt_xdate()\n",
    "fig.tight_layout()  # otherwise the right y-label is slightly clipped\n",
    "plt.show()"
   ]
  },
  {
   "cell_type": "code",
   "execution_count": 86,
   "metadata": {},
   "outputs": [
    {
     "data": {
      "image/png": "[encoded data removed]",
      "text/plain": [
       "<Figure size 432x288 with 2 Axes>"
      ]
     },
     "execution_count": 86,
     "metadata": {},
     "output_type": "execute_result"
    }
   ],
   "source": [
    "fig\n"
   ]
  },
  {
   "cell_type": "code",
   "execution_count": 195,
   "metadata": {},
   "outputs": [
    {
     "data": {
      "text/plain": [
       "-0.9842624478536391"
      ]
     },
     "execution_count": 195,
     "metadata": {},
     "output_type": "execute_result"
    }
   ],
   "source": [
    "data['Equivalent cycle'].corr(data['SOH'])"
   ]
  },
  {
   "cell_type": "code",
   "execution_count": 175,
   "metadata": {},
   "outputs": [
    {
     "data": {
      "text/html": [
       "<div>\n",
       "<style scoped>\n",
       "    .dataframe tbody tr th:only-of-type {\n",
       "        vertical-align: middle;\n",
       "    }\n",
       "\n",
       "    .dataframe tbody tr th {\n",
       "        vertical-align: top;\n",
       "    }\n",
       "\n",
       "    .dataframe thead th {\n",
       "        text-align: right;\n",
       "    }\n",
       "</style>\n",
       "<table border=\"1\" class=\"dataframe\">\n",
       "  <thead>\n",
       "    <tr style=\"text-align: right;\">\n",
       "      <th></th>\n",
       "      <th>Timestamp</th>\n",
       "      <th>SOC</th>\n",
       "      <th>Temperature</th>\n",
       "      <th>SOH</th>\n",
       "      <th>Equivalent cycle</th>\n",
       "      <th>Grid status</th>\n",
       "      <th>dif</th>\n",
       "    </tr>\n",
       "  </thead>\n",
       "  <tbody>\n",
       "    <tr>\n",
       "      <th>0</th>\n",
       "      <td>1556701215000</td>\n",
       "      <td>1.0</td>\n",
       "      <td>25.229167</td>\n",
       "      <td>1.000000</td>\n",
       "      <td>0.0</td>\n",
       "      <td>1</td>\n",
       "      <td>NaN</td>\n",
       "    </tr>\n",
       "    <tr>\n",
       "      <th>1</th>\n",
       "      <td>1556702215000</td>\n",
       "      <td>1.0</td>\n",
       "      <td>25.528210</td>\n",
       "      <td>0.999774</td>\n",
       "      <td>0.0</td>\n",
       "      <td>1</td>\n",
       "      <td>0.0</td>\n",
       "    </tr>\n",
       "    <tr>\n",
       "      <th>2</th>\n",
       "      <td>1556703215000</td>\n",
       "      <td>1.0</td>\n",
       "      <td>25.859735</td>\n",
       "      <td>0.999679</td>\n",
       "      <td>0.0</td>\n",
       "      <td>1</td>\n",
       "      <td>0.0</td>\n",
       "    </tr>\n",
       "    <tr>\n",
       "      <th>3</th>\n",
       "      <td>1556704215000</td>\n",
       "      <td>1.0</td>\n",
       "      <td>26.204830</td>\n",
       "      <td>0.999606</td>\n",
       "      <td>0.0</td>\n",
       "      <td>1</td>\n",
       "      <td>0.0</td>\n",
       "    </tr>\n",
       "    <tr>\n",
       "      <th>4</th>\n",
       "      <td>1556705215000</td>\n",
       "      <td>1.0</td>\n",
       "      <td>26.553448</td>\n",
       "      <td>0.999542</td>\n",
       "      <td>0.0</td>\n",
       "      <td>1</td>\n",
       "      <td>0.0</td>\n",
       "    </tr>\n",
       "  </tbody>\n",
       "</table>\n",
       "</div>"
      ],
      "text/plain": [
       "       Timestamp  SOC  Temperature       SOH  Equivalent cycle  Grid status  \\\n",
       "0  1556701215000  1.0    25.229167  1.000000               0.0            1   \n",
       "1  1556702215000  1.0    25.528210  0.999774               0.0            1   \n",
       "2  1556703215000  1.0    25.859735  0.999679               0.0            1   \n",
       "3  1556704215000  1.0    26.204830  0.999606               0.0            1   \n",
       "4  1556705215000  1.0    26.553448  0.999542               0.0            1   \n",
       "\n",
       "   dif  \n",
       "0  NaN  \n",
       "1  0.0  \n",
       "2  0.0  \n",
       "3  0.0  \n",
       "4  0.0  "
      ]
     },
     "execution_count": 175,
     "metadata": {},
     "output_type": "execute_result"
    }
   ],
   "source": [
    "data.head()"
   ]
  }
 ],
 "metadata": {
  "kernelspec": {
   "display_name": "Python 3",
   "language": "python",
   "name": "python3"
  },
  "language_info": {
   "codemirror_mode": {
    "name": "ipython",
    "version": 3
   },
   "file_extension": ".py",
   "mimetype": "text/x-python",
   "name": "python",
   "nbconvert_exporter": "python",
   "pygments_lexer": "ipython3",
   "version": "3.7.3"
  }
 },
 "nbformat": 4,
 "nbformat_minor": 2
}
