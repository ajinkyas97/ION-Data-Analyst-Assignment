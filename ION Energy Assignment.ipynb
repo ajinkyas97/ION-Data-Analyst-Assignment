{
 "cells": [
  {
   "cell_type": "markdown",
   "metadata": {},
   "source": [
    "ION Data Analyst Assignment"
   ]
  },
  {
   "cell_type": "code",
   "execution_count": 1,
   "metadata": {},
   "outputs": [],
   "source": [
    "#import all the relevent packages\n",
    "import pandas as pd\n",
    "import numpy as np\n",
    "import matplotlib.pyplot as plt"
   ]
  },
  {
   "cell_type": "code",
   "execution_count": 2,
   "metadata": {},
   "outputs": [],
   "source": [
    "import time"
   ]
  },
  {
   "cell_type": "code",
   "execution_count": 27,
   "metadata": {},
   "outputs": [],
   "source": [
    "import matplotlib.dates as md"
   ]
  },
  {
   "cell_type": "code",
   "execution_count": 37,
   "metadata": {},
   "outputs": [],
   "source": [
    "import datetime"
   ]
  },
  {
   "cell_type": "code",
   "execution_count": 4,
   "metadata": {},
   "outputs": [],
   "source": [
    "#reading the data into DataFrame\n",
    "data = pd.read_csv(r\"\\Users\\sangeeta\\Downloads\\Assignment file for Data Analyst - assignment file.csv\")"
   ]
  },
  {
   "cell_type": "markdown",
   "metadata": {},
   "source": [
    "The next few cells transform the DataFrame to a required form"
   ]
  },
  {
   "cell_type": "code",
   "execution_count": 5,
   "metadata": {},
   "outputs": [],
   "source": [
    "data.drop(columns=['Grid power', 'Grid energy consumption', 'Grid cumulative energy consumption', 'Application status', 'Total voltage', 'Current'], inplace=True)"
   ]
  },
  {
   "cell_type": "code",
   "execution_count": 93,
   "metadata": {},
   "outputs": [
    {
     "data": {
      "text/html": [
       "<div>\n",
       "<style scoped>\n",
       "    .dataframe tbody tr th:only-of-type {\n",
       "        vertical-align: middle;\n",
       "    }\n",
       "\n",
       "    .dataframe tbody tr th {\n",
       "        vertical-align: top;\n",
       "    }\n",
       "\n",
       "    .dataframe thead th {\n",
       "        text-align: right;\n",
       "    }\n",
       "</style>\n",
       "<table border=\"1\" class=\"dataframe\">\n",
       "  <thead>\n",
       "    <tr style=\"text-align: right;\">\n",
       "      <th></th>\n",
       "      <th>Timestamp</th>\n",
       "      <th>SOC</th>\n",
       "      <th>Temperature</th>\n",
       "      <th>SOH</th>\n",
       "      <th>Equivalent cycle</th>\n",
       "      <th>Grid status</th>\n",
       "      <th>SOC diff</th>\n",
       "      <th>DateTime</th>\n",
       "      <th>Dates</th>\n",
       "    </tr>\n",
       "  </thead>\n",
       "  <tbody>\n",
       "    <tr>\n",
       "      <th>0</th>\n",
       "      <td>1556701215000</td>\n",
       "      <td>1.0</td>\n",
       "      <td>25.229167</td>\n",
       "      <td>1.000000</td>\n",
       "      <td>0.0</td>\n",
       "      <td>1</td>\n",
       "      <td>NaN</td>\n",
       "      <td>737180.375174</td>\n",
       "      <td>2019-05-01 09:00:15+00:00</td>\n",
       "    </tr>\n",
       "    <tr>\n",
       "      <th>1</th>\n",
       "      <td>1556702215000</td>\n",
       "      <td>1.0</td>\n",
       "      <td>25.528210</td>\n",
       "      <td>0.999774</td>\n",
       "      <td>0.0</td>\n",
       "      <td>1</td>\n",
       "      <td>0.0</td>\n",
       "      <td>737180.386748</td>\n",
       "      <td>2019-05-01 09:16:55+00:00</td>\n",
       "    </tr>\n",
       "    <tr>\n",
       "      <th>2</th>\n",
       "      <td>1556703215000</td>\n",
       "      <td>1.0</td>\n",
       "      <td>25.859735</td>\n",
       "      <td>0.999679</td>\n",
       "      <td>0.0</td>\n",
       "      <td>1</td>\n",
       "      <td>0.0</td>\n",
       "      <td>737180.398322</td>\n",
       "      <td>2019-05-01 09:33:35+00:00</td>\n",
       "    </tr>\n",
       "    <tr>\n",
       "      <th>3</th>\n",
       "      <td>1556704215000</td>\n",
       "      <td>1.0</td>\n",
       "      <td>26.204830</td>\n",
       "      <td>0.999606</td>\n",
       "      <td>0.0</td>\n",
       "      <td>1</td>\n",
       "      <td>0.0</td>\n",
       "      <td>737180.409896</td>\n",
       "      <td>2019-05-01 09:50:15+00:00</td>\n",
       "    </tr>\n",
       "    <tr>\n",
       "      <th>4</th>\n",
       "      <td>1556705215000</td>\n",
       "      <td>1.0</td>\n",
       "      <td>26.553448</td>\n",
       "      <td>0.999542</td>\n",
       "      <td>0.0</td>\n",
       "      <td>1</td>\n",
       "      <td>0.0</td>\n",
       "      <td>737180.421470</td>\n",
       "      <td>2019-05-01 10:06:55+00:00</td>\n",
       "    </tr>\n",
       "  </tbody>\n",
       "</table>\n",
       "</div>"
      ],
      "text/plain": [
       "       Timestamp  SOC  Temperature       SOH  Equivalent cycle  Grid status  \\\n",
       "0  1556701215000  1.0    25.229167  1.000000               0.0            1   \n",
       "1  1556702215000  1.0    25.528210  0.999774               0.0            1   \n",
       "2  1556703215000  1.0    25.859735  0.999679               0.0            1   \n",
       "3  1556704215000  1.0    26.204830  0.999606               0.0            1   \n",
       "4  1556705215000  1.0    26.553448  0.999542               0.0            1   \n",
       "\n",
       "   SOC diff       DateTime                     Dates  \n",
       "0       NaN  737180.375174 2019-05-01 09:00:15+00:00  \n",
       "1       0.0  737180.386748 2019-05-01 09:16:55+00:00  \n",
       "2       0.0  737180.398322 2019-05-01 09:33:35+00:00  \n",
       "3       0.0  737180.409896 2019-05-01 09:50:15+00:00  \n",
       "4       0.0  737180.421470 2019-05-01 10:06:55+00:00  "
      ]
     },
     "execution_count": 93,
     "metadata": {},
     "output_type": "execute_result"
    }
   ],
   "source": [
    "data.head()"
   ]
  },
  {
   "cell_type": "code",
   "execution_count": 91,
   "metadata": {},
   "outputs": [],
   "source": [
    "def time(timestamp):\n",
    "    m = int(timestamp/1000)\n",
    "    return datetime.datetime.utcfromtimestamp(m).replace(tzinfo=datetime.timezone.utc)\n",
    "data['Dates'] = data['Timestamp'].apply(time)"
   ]
  },
  {
   "cell_type": "code",
   "execution_count": 92,
   "metadata": {},
   "outputs": [],
   "source": [
    "#converts timestamp to format that plt.plot_date() can parse\n",
    "\n",
    "def tim(timestamp):\n",
    "    m = int(timestamp/1000)\n",
    "    return md.date2num(datetime.datetime.utcfromtimestamp(m).replace(tzinfo=datetime.timezone.utc))\n",
    "data['DateTime'] = data['Timestamp'].apply(tim)"
   ]
  },
  {
   "cell_type": "code",
   "execution_count": 94,
   "metadata": {},
   "outputs": [
    {
     "data": {
      "text/html": [
       "<div>\n",
       "<style scoped>\n",
       "    .dataframe tbody tr th:only-of-type {\n",
       "        vertical-align: middle;\n",
       "    }\n",
       "\n",
       "    .dataframe tbody tr th {\n",
       "        vertical-align: top;\n",
       "    }\n",
       "\n",
       "    .dataframe thead th {\n",
       "        text-align: right;\n",
       "    }\n",
       "</style>\n",
       "<table border=\"1\" class=\"dataframe\">\n",
       "  <thead>\n",
       "    <tr style=\"text-align: right;\">\n",
       "      <th></th>\n",
       "      <th>Timestamp</th>\n",
       "      <th>SOC</th>\n",
       "      <th>Temperature</th>\n",
       "      <th>SOH</th>\n",
       "      <th>Equivalent cycle</th>\n",
       "      <th>Grid status</th>\n",
       "      <th>SOC diff</th>\n",
       "      <th>DateTime</th>\n",
       "    </tr>\n",
       "  </thead>\n",
       "  <tbody>\n",
       "    <tr>\n",
       "      <th>Timestamp</th>\n",
       "      <td>1.000000</td>\n",
       "      <td>-0.052751</td>\n",
       "      <td>-0.004988</td>\n",
       "      <td>-0.985722</td>\n",
       "      <td>0.999442</td>\n",
       "      <td>-0.002747</td>\n",
       "      <td>0.000426</td>\n",
       "      <td>1.000000</td>\n",
       "    </tr>\n",
       "    <tr>\n",
       "      <th>SOC</th>\n",
       "      <td>-0.052751</td>\n",
       "      <td>1.000000</td>\n",
       "      <td>-0.369040</td>\n",
       "      <td>0.054005</td>\n",
       "      <td>-0.053320</td>\n",
       "      <td>0.227947</td>\n",
       "      <td>0.120876</td>\n",
       "      <td>-0.052751</td>\n",
       "    </tr>\n",
       "    <tr>\n",
       "      <th>Temperature</th>\n",
       "      <td>-0.004988</td>\n",
       "      <td>-0.369040</td>\n",
       "      <td>1.000000</td>\n",
       "      <td>0.003684</td>\n",
       "      <td>-0.004896</td>\n",
       "      <td>-0.845026</td>\n",
       "      <td>-0.818760</td>\n",
       "      <td>-0.004988</td>\n",
       "    </tr>\n",
       "    <tr>\n",
       "      <th>SOH</th>\n",
       "      <td>-0.985722</td>\n",
       "      <td>0.054005</td>\n",
       "      <td>0.003684</td>\n",
       "      <td>1.000000</td>\n",
       "      <td>-0.984262</td>\n",
       "      <td>0.003190</td>\n",
       "      <td>-0.000540</td>\n",
       "      <td>-0.985722</td>\n",
       "    </tr>\n",
       "    <tr>\n",
       "      <th>Equivalent cycle</th>\n",
       "      <td>0.999442</td>\n",
       "      <td>-0.053320</td>\n",
       "      <td>-0.004896</td>\n",
       "      <td>-0.984262</td>\n",
       "      <td>1.000000</td>\n",
       "      <td>-0.002752</td>\n",
       "      <td>0.000625</td>\n",
       "      <td>0.999442</td>\n",
       "    </tr>\n",
       "    <tr>\n",
       "      <th>Grid status</th>\n",
       "      <td>-0.002747</td>\n",
       "      <td>0.227947</td>\n",
       "      <td>-0.845026</td>\n",
       "      <td>0.003190</td>\n",
       "      <td>-0.002752</td>\n",
       "      <td>1.000000</td>\n",
       "      <td>0.988081</td>\n",
       "      <td>-0.002747</td>\n",
       "    </tr>\n",
       "    <tr>\n",
       "      <th>SOC diff</th>\n",
       "      <td>0.000426</td>\n",
       "      <td>0.120876</td>\n",
       "      <td>-0.818760</td>\n",
       "      <td>-0.000540</td>\n",
       "      <td>0.000625</td>\n",
       "      <td>0.988081</td>\n",
       "      <td>1.000000</td>\n",
       "      <td>0.000426</td>\n",
       "    </tr>\n",
       "    <tr>\n",
       "      <th>DateTime</th>\n",
       "      <td>1.000000</td>\n",
       "      <td>-0.052751</td>\n",
       "      <td>-0.004988</td>\n",
       "      <td>-0.985722</td>\n",
       "      <td>0.999442</td>\n",
       "      <td>-0.002747</td>\n",
       "      <td>0.000426</td>\n",
       "      <td>1.000000</td>\n",
       "    </tr>\n",
       "  </tbody>\n",
       "</table>\n",
       "</div>"
      ],
      "text/plain": [
       "                  Timestamp       SOC  Temperature       SOH  \\\n",
       "Timestamp          1.000000 -0.052751    -0.004988 -0.985722   \n",
       "SOC               -0.052751  1.000000    -0.369040  0.054005   \n",
       "Temperature       -0.004988 -0.369040     1.000000  0.003684   \n",
       "SOH               -0.985722  0.054005     0.003684  1.000000   \n",
       "Equivalent cycle   0.999442 -0.053320    -0.004896 -0.984262   \n",
       "Grid status       -0.002747  0.227947    -0.845026  0.003190   \n",
       "SOC diff           0.000426  0.120876    -0.818760 -0.000540   \n",
       "DateTime           1.000000 -0.052751    -0.004988 -0.985722   \n",
       "\n",
       "                  Equivalent cycle  Grid status  SOC diff  DateTime  \n",
       "Timestamp                 0.999442    -0.002747  0.000426  1.000000  \n",
       "SOC                      -0.053320     0.227947  0.120876 -0.052751  \n",
       "Temperature              -0.004896    -0.845026 -0.818760 -0.004988  \n",
       "SOH                      -0.984262     0.003190 -0.000540 -0.985722  \n",
       "Equivalent cycle          1.000000    -0.002752  0.000625  0.999442  \n",
       "Grid status              -0.002752     1.000000  0.988081 -0.002747  \n",
       "SOC diff                  0.000625     0.988081  1.000000  0.000426  \n",
       "DateTime                  0.999442    -0.002747  0.000426  1.000000  "
      ]
     },
     "execution_count": 94,
     "metadata": {},
     "output_type": "execute_result"
    }
   ],
   "source": [
    "data.corr()"
   ]
  },
  {
   "cell_type": "markdown",
   "metadata": {},
   "source": [
    "From the above Matrix it can be understood that, of the 3 pairs considered for the assignment, SOH and Equivalent Cycle show stong inverse linear correlation of -0.984. The same can be understood from the plot of the two given below"
   ]
  },
  {
   "cell_type": "code",
   "execution_count": 162,
   "metadata": {},
   "outputs": [
    {
     "data": {
      "image/png": "[encoded data removed]",
      "text/plain": [
       "<Figure size 432x288 with 2 Axes>"
      ]
     },
     "metadata": {
      "needs_background": "light"
     },
     "output_type": "display_data"
    }
   ],
   "source": [
    "fig, ax1 = plt.subplots()\n",
    "color = 'tab:red'\n",
    "ax1.set_xlabel('Time')\n",
    "ax1.set_ylabel('Equivalent cycle', color=color)\n",
    "ax1.plot_date(data['DateTime'], data['Equivalent cycle'], color=color, linestyle='solid')\n",
    "ax1.tick_params(axis='y', labelcolor=color)\n",
    "\n",
    "ax2 = ax1.twinx()  # instantiate a second axes that shares the same x-axis\n",
    "\n",
    "color = 'tab:blue'\n",
    "ax2.set_ylabel('SOH', color=color)  # we already handled the x-label with ax1\n",
    "ax2.plot_date(data['DateTime'], data['SOH'], color=color, linestyle='solid')\n",
    "ax2.tick_params(axis='y', labelcolor=color)\n",
    "plt.gcf().autofmt_xdate()\n",
    "fig.tight_layout()  # otherwise the right y-label is slightly clipped\n",
    "plt.show()"
   ]
  },
  {
   "cell_type": "code",
   "execution_count": 12,
   "metadata": {},
   "outputs": [],
   "source": [
    "#difference in the consecutive values of SOC to understand its correlation with Grid status and temperature\n",
    "data['SOC diff'] = data['SOC'].diff()"
   ]
  },
  {
   "cell_type": "code",
   "execution_count": 163,
   "metadata": {},
   "outputs": [
    {
     "data": {
      "image/png": "[encoded data removed]",
      "text/plain": [
       "<Figure size 432x288 with 2 Axes>"
      ]
     },
     "metadata": {
      "needs_background": "light"
     },
     "output_type": "display_data"
    }
   ],
   "source": [
    "fig1, ax1 = plt.subplots()\n",
    "color = 'tab:red'\n",
    "ax1.set_xlabel('Index')\n",
    "ax1.set_ylabel('SOC', color=color)\n",
    "ax1.plot(data.index[:1001], data.loc[:1000]['SOC'], color=color, linestyle='solid')\n",
    "ax1.tick_params(axis='y', labelcolor=color)\n",
    "\n",
    "ax2 = ax1.twinx()  # instantiate a second axes that shares the same x-axis\n",
    "\n",
    "color = 'tab:blue'\n",
    "ax2.set_ylabel('Grid status', color=color)  # we already handled the x-label with ax1\n",
    "ax2.plot(data.index[:1001], data.loc[:1000]['Grid status'], color=color, linestyle='solid')\n",
    "ax2.tick_params(axis='y', labelcolor=color)\n",
    "plt.gcf().autofmt_xdate()\n",
    "fig.tight_layout()  # otherwise the right y-label is slightly clipped\n",
    "plt.show()"
   ]
  },
  {
   "cell_type": "markdown",
   "metadata": {},
   "source": [
    "Observing the data and the above plot for a small window, the grid status is binary and changes from 1 to 0 only when the SOC drops by more than 0.27."
   ]
  },
  {
   "cell_type": "code",
   "execution_count": 113,
   "metadata": {},
   "outputs": [
    {
     "data": {
      "text/plain": [
       "-0.302100881"
      ]
     },
     "execution_count": 113,
     "metadata": {},
     "output_type": "execute_result"
    }
   ],
   "source": [
    "data[data['Grid status']==0]['SOC diff'].min()"
   ]
  },
  {
   "cell_type": "code",
   "execution_count": 125,
   "metadata": {},
   "outputs": [],
   "source": [
    "k = data[data['Grid status']==0]"
   ]
  },
  {
   "cell_type": "code",
   "execution_count": 128,
   "metadata": {},
   "outputs": [
    {
     "data": {
      "text/plain": [
       "(369, 9)"
      ]
     },
     "execution_count": 128,
     "metadata": {},
     "output_type": "execute_result"
    }
   ],
   "source": [
    "k.shape"
   ]
  },
  {
   "cell_type": "code",
   "execution_count": 129,
   "metadata": {},
   "outputs": [],
   "source": [
    "l = data[data['SOC diff']<-0.27]"
   ]
  },
  {
   "cell_type": "code",
   "execution_count": 130,
   "metadata": {},
   "outputs": [
    {
     "data": {
      "text/plain": [
       "(368, 9)"
      ]
     },
     "execution_count": 130,
     "metadata": {},
     "output_type": "execute_result"
    }
   ],
   "source": [
    "l.shape"
   ]
  },
  {
   "cell_type": "code",
   "execution_count": 124,
   "metadata": {},
   "outputs": [
    {
     "data": {
      "text/html": [
       "<div>\n",
       "<style scoped>\n",
       "    .dataframe tbody tr th:only-of-type {\n",
       "        vertical-align: middle;\n",
       "    }\n",
       "\n",
       "    .dataframe tbody tr th {\n",
       "        vertical-align: top;\n",
       "    }\n",
       "\n",
       "    .dataframe thead th {\n",
       "        text-align: right;\n",
       "    }\n",
       "</style>\n",
       "<table border=\"1\" class=\"dataframe\">\n",
       "  <thead>\n",
       "    <tr style=\"text-align: right;\">\n",
       "      <th></th>\n",
       "      <th>Timestamp</th>\n",
       "      <th>SOC</th>\n",
       "      <th>Temperature</th>\n",
       "      <th>SOH</th>\n",
       "      <th>Equivalent cycle</th>\n",
       "      <th>Grid status</th>\n",
       "      <th>SOC diff</th>\n",
       "      <th>DateTime</th>\n",
       "      <th>Dates</th>\n",
       "    </tr>\n",
       "  </thead>\n",
       "  <tbody>\n",
       "    <tr>\n",
       "      <th>26832</th>\n",
       "      <td>1583533215000</td>\n",
       "      <td>-0.005705</td>\n",
       "      <td>24.000186</td>\n",
       "      <td>0.925871</td>\n",
       "      <td>92.337792</td>\n",
       "      <td>0</td>\n",
       "      <td>0.0</td>\n",
       "      <td>737490.930729</td>\n",
       "      <td>2020-03-06 22:20:15+00:00</td>\n",
       "    </tr>\n",
       "  </tbody>\n",
       "</table>\n",
       "</div>"
      ],
      "text/plain": [
       "           Timestamp       SOC  Temperature       SOH  Equivalent cycle  \\\n",
       "26832  1583533215000 -0.005705    24.000186  0.925871         92.337792   \n",
       "\n",
       "       Grid status  SOC diff       DateTime                     Dates  \n",
       "26832            0       0.0  737490.930729 2020-03-06 22:20:15+00:00  "
      ]
     },
     "execution_count": 124,
     "metadata": {},
     "output_type": "execute_result"
    }
   ],
   "source": [
    "k[k['SOC diff']>-0.27]"
   ]
  },
  {
   "cell_type": "code",
   "execution_count": 131,
   "metadata": {},
   "outputs": [
    {
     "data": {
      "text/html": [
       "<div>\n",
       "<style scoped>\n",
       "    .dataframe tbody tr th:only-of-type {\n",
       "        vertical-align: middle;\n",
       "    }\n",
       "\n",
       "    .dataframe tbody tr th {\n",
       "        vertical-align: top;\n",
       "    }\n",
       "\n",
       "    .dataframe thead th {\n",
       "        text-align: right;\n",
       "    }\n",
       "</style>\n",
       "<table border=\"1\" class=\"dataframe\">\n",
       "  <thead>\n",
       "    <tr style=\"text-align: right;\">\n",
       "      <th></th>\n",
       "      <th>Timestamp</th>\n",
       "      <th>SOC</th>\n",
       "      <th>Temperature</th>\n",
       "      <th>SOH</th>\n",
       "      <th>Equivalent cycle</th>\n",
       "      <th>Grid status</th>\n",
       "      <th>SOC diff</th>\n",
       "      <th>DateTime</th>\n",
       "      <th>Dates</th>\n",
       "    </tr>\n",
       "  </thead>\n",
       "  <tbody>\n",
       "    <tr>\n",
       "      <th>26832</th>\n",
       "      <td>1583533215000</td>\n",
       "      <td>-0.005705</td>\n",
       "      <td>24.000186</td>\n",
       "      <td>0.925871</td>\n",
       "      <td>92.337792</td>\n",
       "      <td>0</td>\n",
       "      <td>0.000000</td>\n",
       "      <td>737490.930729</td>\n",
       "      <td>2020-03-06 22:20:15+00:00</td>\n",
       "    </tr>\n",
       "    <tr>\n",
       "      <th>64</th>\n",
       "      <td>1556765215000</td>\n",
       "      <td>0.721685</td>\n",
       "      <td>125.973128</td>\n",
       "      <td>0.997131</td>\n",
       "      <td>0.139157</td>\n",
       "      <td>0</td>\n",
       "      <td>-0.278315</td>\n",
       "      <td>737181.115914</td>\n",
       "      <td>2019-05-02 02:46:55+00:00</td>\n",
       "    </tr>\n",
       "    <tr>\n",
       "      <th>72</th>\n",
       "      <td>1556773215000</td>\n",
       "      <td>0.508074</td>\n",
       "      <td>126.845802</td>\n",
       "      <td>0.996159</td>\n",
       "      <td>0.310971</td>\n",
       "      <td>0</td>\n",
       "      <td>-0.278620</td>\n",
       "      <td>737181.208507</td>\n",
       "      <td>2019-05-02 05:00:15+00:00</td>\n",
       "    </tr>\n",
       "    <tr>\n",
       "      <th>136</th>\n",
       "      <td>1556837215000</td>\n",
       "      <td>0.628823</td>\n",
       "      <td>128.981402</td>\n",
       "      <td>0.994788</td>\n",
       "      <td>0.650383</td>\n",
       "      <td>0</td>\n",
       "      <td>-0.279037</td>\n",
       "      <td>737181.949248</td>\n",
       "      <td>2019-05-02 22:46:55+00:00</td>\n",
       "    </tr>\n",
       "    <tr>\n",
       "      <th>200</th>\n",
       "      <td>1556901215000</td>\n",
       "      <td>0.628721</td>\n",
       "      <td>135.607505</td>\n",
       "      <td>0.993498</td>\n",
       "      <td>0.929710</td>\n",
       "      <td>0</td>\n",
       "      <td>-0.279378</td>\n",
       "      <td>737182.689988</td>\n",
       "      <td>2019-05-03 16:33:35+00:00</td>\n",
       "    </tr>\n",
       "  </tbody>\n",
       "</table>\n",
       "</div>"
      ],
      "text/plain": [
       "           Timestamp       SOC  Temperature       SOH  Equivalent cycle  \\\n",
       "26832  1583533215000 -0.005705    24.000186  0.925871         92.337792   \n",
       "64     1556765215000  0.721685   125.973128  0.997131          0.139157   \n",
       "72     1556773215000  0.508074   126.845802  0.996159          0.310971   \n",
       "136    1556837215000  0.628823   128.981402  0.994788          0.650383   \n",
       "200    1556901215000  0.628721   135.607505  0.993498          0.929710   \n",
       "\n",
       "       Grid status  SOC diff       DateTime                     Dates  \n",
       "26832            0  0.000000  737490.930729 2020-03-06 22:20:15+00:00  \n",
       "64               0 -0.278315  737181.115914 2019-05-02 02:46:55+00:00  \n",
       "72               0 -0.278620  737181.208507 2019-05-02 05:00:15+00:00  \n",
       "136              0 -0.279037  737181.949248 2019-05-02 22:46:55+00:00  \n",
       "200              0 -0.279378  737182.689988 2019-05-03 16:33:35+00:00  "
      ]
     },
     "execution_count": 131,
     "metadata": {},
     "output_type": "execute_result"
    }
   ],
   "source": [
    "k.sort_values('SOC diff', ascending=False).head()"
   ]
  },
  {
   "cell_type": "markdown",
   "metadata": {},
   "source": [
    "In all cases where Grid status is 0 the SOC value has dropped drastically, and for all changes in SOC that are more or equal to 0.278315 Grid status has changes from 1 to 0. Thus it could be established as a relationship between SOC and Grid status."
   ]
  },
  {
   "cell_type": "code",
   "execution_count": 147,
   "metadata": {},
   "outputs": [
    {
     "data": {
      "image/png": "[encoded data removed]",
      "text/plain": [
       "<Figure size 432x288 with 2 Axes>"
      ]
     },
     "metadata": {
      "needs_background": "light"
     },
     "output_type": "display_data"
    }
   ],
   "source": [
    "fig2, ax1 = plt.subplots()\n",
    "color = 'tab:red'\n",
    "ax1.set_xlabel('Time')\n",
    "ax1.set_ylabel('SOC', color=color)\n",
    "ax1.plot(data.index[:501], data.loc[:500]['SOC'], color=color, linestyle='solid')\n",
    "ax1.tick_params(axis='y', labelcolor=color)\n",
    "\n",
    "ax2 = ax1.twinx()  # instantiate a second axes that shares the same x-axis\n",
    "\n",
    "color = 'tab:blue'\n",
    "ax2.set_ylabel('Temperature', color=color)  # we already handled the x-label with ax1\n",
    "ax2.plot(data.index[:501], data.loc[:500]['Temperature'], color=color, linestyle='solid')\n",
    "ax2.tick_params(axis='y', labelcolor=color)\n",
    "plt.gcf().autofmt_xdate()\n",
    "fig.tight_layout()  # otherwise the right y-label is slightly clipped\n",
    "plt.show()"
   ]
  },
  {
   "cell_type": "code",
   "execution_count": 150,
   "metadata": {},
   "outputs": [],
   "source": [
    "data['Temp diff'] = data['Temperature'].diff()"
   ]
  },
  {
   "cell_type": "code",
   "execution_count": 154,
   "metadata": {},
   "outputs": [],
   "source": [
    "j = data[data['Temp diff']>1]"
   ]
  },
  {
   "cell_type": "code",
   "execution_count": 156,
   "metadata": {},
   "outputs": [
    {
     "data": {
      "text/plain": [
       "(368, 10)"
      ]
     },
     "execution_count": 156,
     "metadata": {},
     "output_type": "execute_result"
    }
   ],
   "source": [
    "j.shape"
   ]
  },
  {
   "cell_type": "code",
   "execution_count": 155,
   "metadata": {},
   "outputs": [
    {
     "data": {
      "text/plain": [
       "104.70783876000002"
      ]
     },
     "execution_count": 155,
     "metadata": {},
     "output_type": "execute_result"
    }
   ],
   "source": [
    "j['Temp diff'].min()"
   ]
  },
  {
   "cell_type": "code",
   "execution_count": 158,
   "metadata": {},
   "outputs": [
    {
     "data": {
      "text/plain": [
       "105.41566954097823"
      ]
     },
     "execution_count": 158,
     "metadata": {},
     "output_type": "execute_result"
    }
   ],
   "source": [
    "j['Temp diff'].mean()"
   ]
  },
  {
   "cell_type": "markdown",
   "metadata": {},
   "source": [
    "As seen in the SOC vs Grid status, the number of times there has been a substantial drop in the SOC (more than 0.278,i.e., 'SOC diff'>-0.27 is 368 and j contains the spikes in the value of temperature which matches. Also there is no spike in temperature for which the SOC doesn't drop substantially as shown below.\n",
    "Thus, it can be established as a relationship between SOC and temperature that the temperature is not affected and moves sinusoidal but surges by min 104 and average 105 when the SOC drops significantlly i.e. more than 0.278 as observed in the plot. "
   ]
  },
  {
   "cell_type": "code",
   "execution_count": 161,
   "metadata": {},
   "outputs": [
    {
     "data": {
      "text/plain": [
       "(0, 10)"
      ]
     },
     "execution_count": 161,
     "metadata": {},
     "output_type": "execute_result"
    }
   ],
   "source": [
    "j[j['SOC diff']>-0.27].shape"
   ]
  },
  {
   "cell_type": "code",
   "execution_count": 195,
   "metadata": {},
   "outputs": [
    {
     "data": {
      "text/plain": [
       "-0.9842624478536391"
      ]
     },
     "execution_count": 195,
     "metadata": {},
     "output_type": "execute_result"
    }
   ],
   "source": [
    "data['Equivalent cycle'].corr(data['SOH'])"
   ]
  }
 ],
 "metadata": {
  "kernelspec": {
   "display_name": "Python 3",
   "language": "python",
   "name": "python3"
  },
  "language_info": {
   "codemirror_mode": {
    "name": "ipython",
    "version": 3
   },
   "file_extension": ".py",
   "mimetype": "text/x-python",
   "name": "python",
   "nbconvert_exporter": "python",
   "pygments_lexer": "ipython3",
   "version": "3.7.3"
  }
 },
 "nbformat": 4,
 "nbformat_minor": 2
}
